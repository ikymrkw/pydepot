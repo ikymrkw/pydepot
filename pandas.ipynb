{
  "nbformat": 4,
  "nbformat_minor": 0,
  "metadata": {
    "colab": {
      "name": "pandas.ipynb",
      "version": "0.3.2",
      "provenance": []
    },
    "kernelspec": {
      "name": "python3",
      "display_name": "Python 3"
    }
  },
  "cells": [
    {
      "metadata": {
        "id": "z-G90j1pBAc9",
        "colab_type": "text"
      },
      "cell_type": "markdown",
      "source": [
        "# Pandasのデータ構造\n",
        "Pandasの基本的なデータ構造は ``Series`` と ``DataFrame``  です。"
      ]
    },
    {
      "metadata": {
        "id": "T64Itr5WBP5p",
        "colab_type": "text"
      },
      "cell_type": "markdown",
      "source": [
        "## Series\n",
        "``Series``は1次元のデータです。1次元の配列やリストと似ていますが、各要素に見出し（インデックス）が付いている点と各要素のデータ型(dtype)が明示される点が特徴です。"
      ]
    },
    {
      "metadata": {
        "id": "2PDytPYtAXzC",
        "colab_type": "code",
        "colab": {
          "base_uri": "https://localhost:8080/",
          "height": 85
        },
        "outputId": "4b30c004-ca0d-47b1-fe08-3caea50f9e17"
      },
      "cell_type": "code",
      "source": [
        "# 1次元リストからSeriesを生成すると、自動的に連番のインデックスが付けられます\n",
        "import pandas as pd\n",
        "\n",
        "data = [ 'apple', 'banana', 'cherry' ]\n",
        "sr = pd.Series(data)\n",
        "sr"
      ],
      "execution_count": 10,
      "outputs": [
        {
          "output_type": "execute_result",
          "data": {
            "text/plain": [
              "0     apple\n",
              "1    banana\n",
              "2    cherry\n",
              "dtype: object"
            ]
          },
          "metadata": {
            "tags": []
          },
          "execution_count": 10
        }
      ]
    },
    {
      "metadata": {
        "id": "PhoxZX1JCRpo",
        "colab_type": "code",
        "colab": {
          "base_uri": "https://localhost:8080/",
          "height": 102
        },
        "outputId": "91a8a64a-b894-45b8-a8b4-13558bfe061b"
      },
      "cell_type": "code",
      "source": [
        "# 辞書からSeriesを生成すると、キーがインデックスになります\n",
        "import pandas as pd\n",
        "\n",
        "data = { 'name': 'John', 'sex': 'male', 'age': 30, 'profession': 'programmer' }\n",
        "sr = pd.Series(data)\n",
        "sr"
      ],
      "execution_count": 11,
      "outputs": [
        {
          "output_type": "execute_result",
          "data": {
            "text/plain": [
              "age                   30\n",
              "name                John\n",
              "profession    programmer\n",
              "sex                 male\n",
              "dtype: object"
            ]
          },
          "metadata": {
            "tags": []
          },
          "execution_count": 11
        }
      ]
    },
    {
      "metadata": {
        "id": "y5c2itSZBz54",
        "colab_type": "text"
      },
      "cell_type": "markdown",
      "source": [
        "## DataFrame\n",
        "``DataFrame``は2次元のデータです。``Series``と同様に縦軸(行)と横軸(列)に見出し（インデックス）が付きます。"
      ]
    },
    {
      "metadata": {
        "id": "dE2TFlwODIr-",
        "colab_type": "code",
        "colab": {
          "base_uri": "https://localhost:8080/",
          "height": 142
        },
        "outputId": "bf0ceed5-a76c-45d8-b8a2-c5225a6a11f9"
      },
      "cell_type": "code",
      "source": [
        "# リストのリストから DataFrame を生成すると、行と列の見出しが自動的に生成されます\n",
        "import pandas as pd\n",
        "\n",
        "data = [ [1,2,3,4], [5,6,7,8], [9,10,11,12] ]\n",
        "df = pd.DataFrame(data)\n",
        "df"
      ],
      "execution_count": 12,
      "outputs": [
        {
          "output_type": "execute_result",
          "data": {
            "text/html": [
              "<div>\n",
              "<style scoped>\n",
              "    .dataframe tbody tr th:only-of-type {\n",
              "        vertical-align: middle;\n",
              "    }\n",
              "\n",
              "    .dataframe tbody tr th {\n",
              "        vertical-align: top;\n",
              "    }\n",
              "\n",
              "    .dataframe thead th {\n",
              "        text-align: right;\n",
              "    }\n",
              "</style>\n",
              "<table border=\"1\" class=\"dataframe\">\n",
              "  <thead>\n",
              "    <tr style=\"text-align: right;\">\n",
              "      <th></th>\n",
              "      <th>0</th>\n",
              "      <th>1</th>\n",
              "      <th>2</th>\n",
              "      <th>3</th>\n",
              "    </tr>\n",
              "  </thead>\n",
              "  <tbody>\n",
              "    <tr>\n",
              "      <th>0</th>\n",
              "      <td>1</td>\n",
              "      <td>2</td>\n",
              "      <td>3</td>\n",
              "      <td>4</td>\n",
              "    </tr>\n",
              "    <tr>\n",
              "      <th>1</th>\n",
              "      <td>5</td>\n",
              "      <td>6</td>\n",
              "      <td>7</td>\n",
              "      <td>8</td>\n",
              "    </tr>\n",
              "    <tr>\n",
              "      <th>2</th>\n",
              "      <td>9</td>\n",
              "      <td>10</td>\n",
              "      <td>11</td>\n",
              "      <td>12</td>\n",
              "    </tr>\n",
              "  </tbody>\n",
              "</table>\n",
              "</div>"
            ],
            "text/plain": [
              "   0   1   2   3\n",
              "0  1   2   3   4\n",
              "1  5   6   7   8\n",
              "2  9  10  11  12"
            ]
          },
          "metadata": {
            "tags": []
          },
          "execution_count": 12
        }
      ]
    },
    {
      "metadata": {
        "id": "VLmJqP6uDZSg",
        "colab_type": "code",
        "colab": {
          "base_uri": "https://localhost:8080/",
          "height": 142
        },
        "outputId": "89084f84-28dd-4ab0-a014-27c33b4e1dc4"
      },
      "cell_type": "code",
      "source": [
        "# 辞書のリストから DataFrame を生成すると、各辞書のキーが列見出しになります\n",
        "import pandas as pd\n",
        "\n",
        "data = [\n",
        "    { 'チーム名': '浦和レッズ', 'ホームタウン': 'さいたま市' },\n",
        "    { 'チーム名': '横浜マリノス', 'ホームタウン': '横浜市' },\n",
        "    { 'チーム名': 'FC東京', 'ホームタウン': '東京都' }\n",
        "]\n",
        "df = pd.DataFrame(data)\n",
        "df"
      ],
      "execution_count": 13,
      "outputs": [
        {
          "output_type": "execute_result",
          "data": {
            "text/html": [
              "<div>\n",
              "<style scoped>\n",
              "    .dataframe tbody tr th:only-of-type {\n",
              "        vertical-align: middle;\n",
              "    }\n",
              "\n",
              "    .dataframe tbody tr th {\n",
              "        vertical-align: top;\n",
              "    }\n",
              "\n",
              "    .dataframe thead th {\n",
              "        text-align: right;\n",
              "    }\n",
              "</style>\n",
              "<table border=\"1\" class=\"dataframe\">\n",
              "  <thead>\n",
              "    <tr style=\"text-align: right;\">\n",
              "      <th></th>\n",
              "      <th>チーム名</th>\n",
              "      <th>ホームタウン</th>\n",
              "    </tr>\n",
              "  </thead>\n",
              "  <tbody>\n",
              "    <tr>\n",
              "      <th>0</th>\n",
              "      <td>浦和レッズ</td>\n",
              "      <td>さいたま市</td>\n",
              "    </tr>\n",
              "    <tr>\n",
              "      <th>1</th>\n",
              "      <td>横浜マリノス</td>\n",
              "      <td>横浜市</td>\n",
              "    </tr>\n",
              "    <tr>\n",
              "      <th>2</th>\n",
              "      <td>FC東京</td>\n",
              "      <td>東京都</td>\n",
              "    </tr>\n",
              "  </tbody>\n",
              "</table>\n",
              "</div>"
            ],
            "text/plain": [
              "     チーム名 ホームタウン\n",
              "0   浦和レッズ  さいたま市\n",
              "1  横浜マリノス    横浜市\n",
              "2    FC東京    東京都"
            ]
          },
          "metadata": {
            "tags": []
          },
          "execution_count": 13
        }
      ]
    }
  ]
}